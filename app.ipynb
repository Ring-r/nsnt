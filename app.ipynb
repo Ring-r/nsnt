{
 "cells": [
  {
   "cell_type": "code",
   "execution_count": 1,
   "metadata": {},
   "outputs": [],
   "source": [
    "import app"
   ]
  },
  {
   "cell_type": "code",
   "execution_count": 2,
   "metadata": {},
   "outputs": [
    {
     "data": {
      "text/plain": [
       "['3197: Терраса кафе богинь (второй сезон) / Megami no Cafe Terrace 2nd Season [1-7 из 12+]',\n",
       " '3226: Легенды Троецарствия: Книга мира / Sanguo Sha: Taiping Tianshu [1-10 из 12+]',\n",
       " '3214: Псевдогарем / Giji Harem [1-7 из 12+] [8 серия - 22 августа]',\n",
       " '3196: Я парировал всё время, чтобы стать сильнейшим авантюристом / Ore wa Subete wo \"Parry\" suru: Gyaku Kanchigai no Sekai Saikyou wa Boukensha ni Naritai [1-7 из 12+] [8 серия - 22 августа]',\n",
       " '2849: Трон, отмеченный богом / Shen Yin Wangzuo [1-120 из 156]',\n",
       " '3227: Вне фокуса в полутьме / Tasogare Out Focus [1-7 из 12]',\n",
       " '3213: Жизнь с моей сводной сестрой / Gimai Seikatsu [1-7 из 12+] [8 серия - 22 августа]',\n",
       " '3222: Отряд самоубийц из другого мира / Isekai Suicide Squad [1-10 из 10]',\n",
       " \"3237: Детская Делико / Delico's Nursery [1-2 из 12+]\",\n",
       " '3123: Ёко из Сэнгоку / Sengoku Youko [1-18 из 26]']"
      ]
     },
     "execution_count": 2,
     "metadata": {},
     "output_type": "execute_result"
    }
   ],
   "source": [
    "page_number = 2\n",
    "[f'{s.id_}: {s.title}' for s in app._look_to_watch(page_number)]"
   ]
  },
  {
   "cell_type": "code",
   "execution_count": 3,
   "metadata": {},
   "outputs": [
    {
     "data": {
      "text/plain": [
       "['3197: Терраса кафе богинь (второй сезон) / Megami no Cafe Terrace 2nd Season [1-7 из 12+]',\n",
       " '3226: Легенды Троецарствия: Книга мира / Sanguo Sha: Taiping Tianshu [1-10 из 12+]',\n",
       " '3214: Псевдогарем / Giji Harem [1-7 из 12+] [8 серия - 22 августа]',\n",
       " '3196: Я парировал всё время, чтобы стать сильнейшим авантюристом / Ore wa Subete wo \"Parry\" suru: Gyaku Kanchigai no Sekai Saikyou wa Boukensha ni Naritai [1-7 из 12+] [8 серия - 22 августа]',\n",
       " '2849: Трон, отмеченный богом / Shen Yin Wangzuo [1-120 из 156]',\n",
       " '3227: Вне фокуса в полутьме / Tasogare Out Focus [1-7 из 12]',\n",
       " '3213: Жизнь с моей сводной сестрой / Gimai Seikatsu [1-7 из 12+] [8 серия - 22 августа]',\n",
       " '3222: Отряд самоубийц из другого мира / Isekai Suicide Squad [1-10 из 10]',\n",
       " \"3237: Детская Делико / Delico's Nursery [1-2 из 12+]\",\n",
       " '3123: Ёко из Сэнгоку / Sengoku Youko [1-18 из 26]']"
      ]
     },
     "execution_count": 3,
     "metadata": {},
     "output_type": "execute_result"
    }
   ],
   "source": [
    "[f'{key}: {value.title}' for key, value in app.cached_data.items() if key not in app.data and key not in app.ignored_data]"
   ]
  },
  {
   "cell_type": "code",
   "execution_count": 4,
   "metadata": {},
   "outputs": [
    {
     "data": {
      "text/plain": [
       "['2849: Трон, отмеченный богом / Shen Yin Wangzuo [1-120 из 156]']"
      ]
     },
     "execution_count": 4,
     "metadata": {},
     "output_type": "execute_result"
    }
   ],
   "source": [
    "id_: int | None = None\n",
    "if id_ is not None:\n",
    "    app._add(id_)\n",
    "[f'{s.id_}: {s.title}' for s in app.data.values()]"
   ]
  },
  {
   "cell_type": "code",
   "execution_count": 5,
   "metadata": {},
   "outputs": [
    {
     "data": {
      "text/plain": [
       "[]"
      ]
     },
     "execution_count": 5,
     "metadata": {},
     "output_type": "execute_result"
    }
   ],
   "source": [
    "id_: int | None = None\n",
    "if id_ is not None:\n",
    "    app._add_ignore(id_)\n",
    "[f'{s.id_}: {s.title}' for s in app.ignored_data.values()]"
   ]
  }
 ],
 "metadata": {
  "kernelspec": {
   "display_name": ".venv",
   "language": "python",
   "name": "python3"
  },
  "language_info": {
   "codemirror_mode": {
    "name": "ipython",
    "version": 3
   },
   "file_extension": ".py",
   "mimetype": "text/x-python",
   "name": "python",
   "nbconvert_exporter": "python",
   "pygments_lexer": "ipython3",
   "version": "3.12.3"
  }
 },
 "nbformat": 4,
 "nbformat_minor": 2
}
