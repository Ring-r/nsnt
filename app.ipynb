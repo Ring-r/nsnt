{
 "cells": [
  {
   "cell_type": "code",
   "execution_count": 1,
   "metadata": {},
   "outputs": [],
   "source": [
    "import app"
   ]
  },
  {
   "cell_type": "code",
   "execution_count": 3,
   "metadata": {},
   "outputs": [],
   "source": [
    "page_number_start = 1\n",
    "page_count = 10\n",
    "stop_on_duplicate = True\n",
    "# [f'{s.id_}: {s.title}' for s in app._parse_main_pages(page_number_start, page_count, stop_on_duplicate=stop_on_duplicate) if s.id_ not in app.data and s.id_ not in app.ignored_data]\n",
    "for _ in app._parse_main_pages(page_number_start, page_count, stop_on_duplicate=stop_on_duplicate):\n",
    "    ..."
   ]
  },
  {
   "cell_type": "code",
   "execution_count": 2,
   "metadata": {},
   "outputs": [
    {
     "name": "stdout",
     "output_type": "stream",
     "text": [
      "2491\n",
      "\tПутешествие к Бессмертию / FanRen Xiu Xian Chuan\n",
      "\tПутешествие к Бессмертию / FanRen Xiu Xian Chuan [1-111 из 124] [ОВА 1-4 из 4]\n",
      "3005\n",
      "\tБоевой континент (второй сезон) / Douluo Dalu II: Jueshi Tangmen\n",
      "\tБоевой континент (второй сезон) / Douluo Dalu II: Jueshi Tangmen [1-62 из 104]\n",
      "3204\n",
      "\tЭльф не может сидеть на диете / Elf-san wa Yaserarenai.\n",
      "\tЭльф не может сидеть на диете / Elf-san wa Yaserarenai. [1-7 из 12+]\n",
      "3205\n",
      "\tЮный лорд - мастер побега / Nige Jouzu no Wakagimi\n",
      "\tЮный лорд - мастер побега / Nige Jouzu no Wakagimi [1-7 из 12+] [8 серия - 24 августа]\n",
      "3217\n",
      "\tОт простого человека до героя-разведчика / Mob kara Hajimaru Tansaku Eiyuutan\n",
      "\tОт простого человека до героя-разведчика / Mob kara Hajimaru Tansaku Eiyuutan [1-8 из 12+] [9 серия - 24 августа]\n",
      "3235\n",
      "\tПочему все забыли мой мир? / Naze Boku no Sekai wo Daremo Oboeteinai no ka?\n",
      "\tПочему все забыли мой мир? / Naze Boku no Sekai wo Daremo Oboeteinai no ka? [1-6 из 12+] [7 серия - 24 августа]\n"
     ]
    }
   ],
   "source": [
    "# id_: int | None = None\n",
    "# if id_ is not None:\n",
    "#     app._add(id_)\n",
    "\n",
    "from itertools import islice\n",
    "for item in islice(app._get_interests(), 10):\n",
    "    print(item)"
   ]
  },
  {
   "cell_type": "code",
   "execution_count": 3,
   "metadata": {},
   "outputs": [
    {
     "ename": "TypeError",
     "evalue": "can't compare offset-naive and offset-aware datetimes",
     "output_type": "error",
     "traceback": [
      "\u001b[0;31m---------------------------------------------------------------------------\u001b[0m",
      "\u001b[0;31mTypeError\u001b[0m                                 Traceback (most recent call last)",
      "Cell \u001b[0;32mIn[3], line 6\u001b[0m\n\u001b[1;32m      4\u001b[0m item_count \u001b[38;5;241m=\u001b[39m \u001b[38;5;241m10\u001b[39m\n\u001b[1;32m      5\u001b[0m items \u001b[38;5;241m=\u001b[39m [value \u001b[38;5;28;01mfor\u001b[39;00m key, value \u001b[38;5;129;01min\u001b[39;00m app\u001b[38;5;241m.\u001b[39mcached_data\u001b[38;5;241m.\u001b[39mitems() \u001b[38;5;28;01mif\u001b[39;00m key \u001b[38;5;129;01mnot\u001b[39;00m \u001b[38;5;129;01min\u001b[39;00m app\u001b[38;5;241m.\u001b[39mdata \u001b[38;5;129;01mand\u001b[39;00m key \u001b[38;5;129;01mnot\u001b[39;00m \u001b[38;5;129;01min\u001b[39;00m app\u001b[38;5;241m.\u001b[39mignored_data]\n\u001b[0;32m----> 6\u001b[0m sorted_items \u001b[38;5;241m=\u001b[39m \u001b[38;5;28;43msorted\u001b[39;49m\u001b[43m(\u001b[49m\u001b[43mitems\u001b[49m\u001b[43m,\u001b[49m\u001b[43m \u001b[49m\u001b[43mkey\u001b[49m\u001b[38;5;241;43m=\u001b[39;49m\u001b[43mattrgetter\u001b[49m\u001b[43m(\u001b[49m\u001b[38;5;124;43m'\u001b[39;49m\u001b[38;5;124;43mupdate_date\u001b[39;49m\u001b[38;5;124;43m'\u001b[39;49m\u001b[43m)\u001b[49m\u001b[43m)\u001b[49m\n\u001b[1;32m      7\u001b[0m [\u001b[38;5;124mf\u001b[39m\u001b[38;5;124m'\u001b[39m\u001b[38;5;132;01m{\u001b[39;00mitem\u001b[38;5;241m.\u001b[39mid_\u001b[38;5;132;01m}\u001b[39;00m\u001b[38;5;124m: \u001b[39m\u001b[38;5;132;01m{\u001b[39;00mitem\u001b[38;5;241m.\u001b[39mtitle\u001b[38;5;132;01m}\u001b[39;00m\u001b[38;5;124m'\u001b[39m \u001b[38;5;28;01mfor\u001b[39;00m item \u001b[38;5;129;01min\u001b[39;00m sorted_items][item_number_start:item_number_start\u001b[38;5;241m+\u001b[39mitem_count]\n",
      "\u001b[0;31mTypeError\u001b[0m: can't compare offset-naive and offset-aware datetimes"
     ]
    }
   ],
   "source": [
    "from operator import attrgetter\n",
    "\n",
    "item_number_start = 0\n",
    "item_count = 10\n",
    "items = [value for key, value in app.cached_data.items() if key not in app.data and key not in app.ignored_data]\n",
    "sorted_items = sorted(items, key=attrgetter('update_date'))\n",
    "[f'{item.id_}: {item.title}' for item in sorted_items][item_number_start:item_number_start+item_count]"
   ]
  },
  {
   "cell_type": "code",
   "execution_count": 15,
   "metadata": {},
   "outputs": [
    {
     "data": {
      "text/plain": [
       "['3193: У моей жены нет эмоций / Boku no Tsuma wa Kanjou ga Nai  [1-7 из 12] [8 серия -  17 августа]',\n",
       " '3239: Маг на полную ставку: Таинственное поручение / Quanzhi Fashi Tebie Pian: Shenmi Weituo [1 из 6]',\n",
       " '3198: Моя сэмпай - парень? / Senpai wa Otokonoko [1-6 из 12+]',\n",
       " '3195: Аля иногда кокетничает со мной по-русски / Tokidoki Bosotto Russia-go de Dereru Tonari no Alya-san [1-7 из 12+] [8 серия - 21 августа]']"
      ]
     },
     "execution_count": 15,
     "metadata": {},
     "output_type": "execute_result"
    }
   ],
   "source": [
    "id_: int | None = None\n",
    "if id_ is not None:\n",
    "    app._add_ignore(id_)\n",
    "[f'{s.id_}: {s.title}' for s in app.ignored_data.values()]"
   ]
  }
 ],
 "metadata": {
  "kernelspec": {
   "display_name": ".venv",
   "language": "python",
   "name": "python3"
  },
  "language_info": {
   "codemirror_mode": {
    "name": "ipython",
    "version": 3
   },
   "file_extension": ".py",
   "mimetype": "text/x-python",
   "name": "python",
   "nbconvert_exporter": "python",
   "pygments_lexer": "ipython3",
   "version": "3.12.3"
  }
 },
 "nbformat": 4,
 "nbformat_minor": 2
}
