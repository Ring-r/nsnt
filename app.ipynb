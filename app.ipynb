{
 "cells": [
  {
   "cell_type": "code",
   "execution_count": 1,
   "metadata": {},
   "outputs": [],
   "source": [
    "import app"
   ]
  },
  {
   "cell_type": "code",
   "execution_count": 14,
   "metadata": {},
   "outputs": [
    {
     "data": {
      "text/plain": [
       "[]"
      ]
     },
     "execution_count": 14,
     "metadata": {},
     "output_type": "execute_result"
    }
   ],
   "source": [
    "page_number_start = 1\n",
    "page_count = 10\n",
    "stop_on_duplicate = True\n",
    "[f'{s.id_}: {s.title}' for s in app._parse_main_pages(page_number_start, page_count, stop_on_duplicate=stop_on_duplicate) if s.id_ not in app.ignored_data]"
   ]
  },
  {
   "cell_type": "code",
   "execution_count": 44,
   "metadata": {},
   "outputs": [
    {
     "data": {
      "text/plain": [
       "['3197: Терраса кафе богинь (второй сезон) / Megami no Cafe Terrace 2nd Season [1-7 из 12+]',\n",
       " '3214: Псевдогарем / Giji Harem [1-7 из 12+] [8 серия - 22 августа]',\n",
       " '3227: Вне фокуса в полутьме / Tasogare Out Focus [1-7 из 12]',\n",
       " '3213: Жизнь с моей сводной сестрой / Gimai Seikatsu [1-7 из 12+] [8 серия - 22 августа]',\n",
       " '3222: Отряд самоубийц из другого мира / Isekai Suicide Squad [1-10 из 10]',\n",
       " \"3237: Детская Делико / Delico's Nursery [1-2 из 12+]\",\n",
       " '3123: Ёко из Сэнгоку / Sengoku Youko [1-18 из 26]',\n",
       " '2724: Безупречный мир / Wanmei Shijie [1-175 из 200+]',\n",
       " '3195: Аля иногда кокетничает со мной по-русски / Tokidoki Bosotto Russia-go de Dereru Tonari no Alya-san [1-7 из 12+] [8 серия - 21 августа]',\n",
       " '3225: Вечная воля (третий сезон) / Yi Nian Yong Heng 3rd Season [1-10 из 12+]']"
      ]
     },
     "execution_count": 44,
     "metadata": {},
     "output_type": "execute_result"
    }
   ],
   "source": [
    "item_number_start = 0\n",
    "item_count = 10\n",
    "[f'{key}: {value.title}' for key, value in app.cached_data.items() if key not in app.data and key not in app.ignored_data][item_number_start:item_number_start+item_count]"
   ]
  },
  {
   "cell_type": "code",
   "execution_count": 43,
   "metadata": {},
   "outputs": [
    {
     "data": {
      "text/plain": [
       "['2849: Трон, отмеченный богом / Shen Yin Wangzuo [1-120 из 156]',\n",
       " '3196: Я парировал всё время, чтобы стать сильнейшим авантюристом / Ore wa Subete wo \"Parry\" suru: Gyaku Kanchigai no Sekai Saikyou wa Boukensha ni Naritai [1-7 из 12+] [8 серия - 22 августа]',\n",
       " '3216: Звёздное дитя (второй сезон) / Oshi no Ko 2nd Season [1-7 из 12+] [8 серия - 21 августа]',\n",
       " '3202: Самый сильный волшебник армии повелителя демонов оказался человеком / Maougun Saikyou no Majutsushi wa Ningen datta [1-8 из 12+] [9 серия - 21 августа]',\n",
       " '2761: Пожиратель звёзд / Tunshi Xingkong [1-132 из 156]',\n",
       " '3210: Дисквалифицирован по жизни / Isekai Shikkaku [1-6 из 12+] [7 серия - 20 августа]',\n",
       " '3071: Противостояние святого / Xian Ni [1-49 из 76]',\n",
       " '2491: Путешествие к Бессмертию / FanRen Xiu Xian Chuan [1-110 из 124] [ОВА 1-4 из 4]',\n",
       " '2857: Расколотая битвой синева небес (пятый сезон) / Doupo Cangqiong: Nian Fan [1-107 из 156]',\n",
       " '3194: Невероятный новичок средних лет, прошедший тренировки на грани смерти / Shinmai Ossan Boukensha, Saikyou Party ni Shinu hodo Kitaerarete Muteki ni Naru. [1-6 из 12+] [7 серия - 19 августа]',\n",
       " '3231: Витубер: Я стала популярной после того, как забыла выключить стрим / VTuber Nandaga Haishin Kiri Wasuretara Densetsu ni Natteta [1-6 из 12+]',\n",
       " '3218: Башня Бога (второй сезон) / Kami no Tou: Ouji no Kikan [1-6 из 12+] [7 серия - 18 августа]',\n",
       " '3207: Меч и жезл Вистории / Tsue to Tsurugi no Wistoria [1-5 из 12+] [6 серия - 18 августа]',\n",
       " '3005: Боевой континент (второй сезон) / Douluo Dalu II: Jueshi Tangmen [1-61 из 104]',\n",
       " '3204: Эльф не может сидеть на диете / Elf-san wa Yaserarenai. [1-6 из 12+]',\n",
       " '3205: Юный лорд - мастер побега / Nige Jouzu no Wakagimi [1-6 из 12+] [7 серия - 17 августа]',\n",
       " '3235: Почему все забыли мой мир? / Naze Boku no Sekai wo Daremo Oboeteinai no ka? [1-5 из 12+] [6 серия - 17 августа]',\n",
       " '3217: От простого человека до героя-разведчика / Mob kara Hajimaru Tansaku Eiyuutan [1-7 из 12+] [8 серия - 17 августа]',\n",
       " '3215: Магическая ремесленница Далия не унывает! / Madougushi Dahliya wa Utsumukanai [1-6 из 12+] [7 серия - 17 августа]',\n",
       " '3228: Я стал самым сильным с провальным навыком «ненормальное состояние», я разрушу всё / Hazurewaku no \"Joutai Ijou Skill\" de Saikyou ni Natta Ore ga Subete wo Juurin suru made [1-6 из 12+]',\n",
       " '3004: Реинкарнация безработного: История о приключениях в другом мире (второй сезон) / Mushoku Tensei II: Isekai Ittara Honki Dasu [0-24 из 24]',\n",
       " '3226: Легенды Троецарствия: Книга мира / Sanguo Sha: Taiping Tianshu [1-10 из 12+]']"
      ]
     },
     "execution_count": 43,
     "metadata": {},
     "output_type": "execute_result"
    }
   ],
   "source": [
    "id_: int | None = 3226\n",
    "if id_ is not None:\n",
    "    app._add(id_)\n",
    "[f'{s.id_}: {s.title}' for s in app.data.values()]"
   ]
  },
  {
   "cell_type": "code",
   "execution_count": 30,
   "metadata": {},
   "outputs": [
    {
     "data": {
      "text/plain": [
       "['3193: У моей жены нет эмоций / Boku no Tsuma wa Kanjou ga Nai  [1-7 из 12] [8 серия -  17 августа]']"
      ]
     },
     "execution_count": 30,
     "metadata": {},
     "output_type": "execute_result"
    }
   ],
   "source": [
    "id_: int | None = 3193\n",
    "if id_ is not None:\n",
    "    app._add_ignore(id_)\n",
    "[f'{s.id_}: {s.title}' for s in app.ignored_data.values()]"
   ]
  }
 ],
 "metadata": {
  "kernelspec": {
   "display_name": ".venv",
   "language": "python",
   "name": "python3"
  },
  "language_info": {
   "codemirror_mode": {
    "name": "ipython",
    "version": 3
   },
   "file_extension": ".py",
   "mimetype": "text/x-python",
   "name": "python",
   "nbconvert_exporter": "python",
   "pygments_lexer": "ipython3",
   "version": "3.12.3"
  }
 },
 "nbformat": 4,
 "nbformat_minor": 2
}
