{
 "cells": [
  {
   "cell_type": "code",
   "execution_count": 1,
   "metadata": {},
   "outputs": [],
   "source": [
    "import app"
   ]
  },
  {
   "cell_type": "markdown",
   "metadata": {},
   "source": [
    "download items from page:"
   ]
  },
  {
   "cell_type": "code",
   "execution_count": 2,
   "metadata": {},
   "outputs": [],
   "source": [
    "page_index = 1\n",
    "stop_on_duplicate = True\n",
    "for _ in app._parse_main_page(page_index, stop_on_duplicate=stop_on_duplicate):\n",
    "    ..."
   ]
  },
  {
   "cell_type": "markdown",
   "metadata": {},
   "source": [
    "manage watched data:"
   ]
  },
  {
   "cell_type": "code",
   "execution_count": null,
   "metadata": {},
   "outputs": [],
   "source": [
    "from itertools import islice\n",
    "\n",
    "app._set_title(None, '')\n",
    "app._set_priority(None, None)\n",
    "app._watch(None)\n",
    "app._ignore(None)\n",
    "\n",
    "\n",
    "count = 10\n",
    "for item in islice(app._get_watch(), count):\n",
    "    print(item)"
   ]
  },
  {
   "cell_type": "markdown",
   "metadata": {},
   "source": [
    "manage data out of watch and ignore:"
   ]
  },
  {
   "cell_type": "code",
   "execution_count": null,
   "metadata": {},
   "outputs": [],
   "source": [
    "from itertools import islice\n",
    "\n",
    "reset_marker: bool = True\n",
    "app._watch(None, reset_marker=reset_marker)\n",
    "app._ignore(None, reset_marker=reset_marker)\n",
    "\n",
    "start = 0\n",
    "count = 10\n",
    "for item in islice(app._get_others(), start, start + count):\n",
    "    print(item)"
   ]
  },
  {
   "cell_type": "markdown",
   "metadata": {},
   "source": [
    "manage ignored data:"
   ]
  },
  {
   "cell_type": "code",
   "execution_count": null,
   "metadata": {},
   "outputs": [],
   "source": [
    "from itertools import islice\n",
    "\n",
    "app._watch(None)\n",
    "\n",
    "start = 0\n",
    "count = 10\n",
    "\n",
    "for item in islice(app._get_ignore(), start, start + count):\n",
    "    print(item)"
   ]
  }
 ],
 "metadata": {
  "kernelspec": {
   "display_name": ".venv",
   "language": "python",
   "name": "python3"
  },
  "language_info": {
   "codemirror_mode": {
    "name": "ipython",
    "version": 3
   },
   "file_extension": ".py",
   "mimetype": "text/x-python",
   "name": "python",
   "nbconvert_exporter": "python",
   "pygments_lexer": "ipython3",
   "version": "3.12.3"
  }
 },
 "nbformat": 4,
 "nbformat_minor": 2
}
